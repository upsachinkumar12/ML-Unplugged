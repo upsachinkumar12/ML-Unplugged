{
 "cells": [
  {
   "cell_type": "markdown",
   "id": "b3d63778",
   "metadata": {},
   "source": [
    " ML Assignment No. 2 Solutions"
   ]
  },
  {
   "cell_type": "markdown",
   "id": "9205c64f",
   "metadata": {},
   "source": [
    "## Question 1a"
   ]
  },
  {
   "cell_type": "code",
   "execution_count": null,
   "id": "a1665c40",
   "metadata": {},
   "outputs": [],
   "source": []
  },
  {
   "cell_type": "code",
   "execution_count": null,
   "id": "acb149fe",
   "metadata": {},
   "outputs": [],
   "source": [
    "\n",
    "p1 = 220 / 300\n",
    "p2 = 80 / 300\n",
    "\n",
    "gini_before = 1 - (p1**2 + p2**2)\n",
    "print(f\"Gini before splitting: {gini_before:.4f}\")\n"
   ]
  },
  {
   "cell_type": "markdown",
   "id": "01ddaa81",
   "metadata": {},
   "source": [
    "## Question 1b:"
   ]
  },
  {
   "cell_type": "code",
   "execution_count": null,
   "id": "5478907e",
   "metadata": {},
   "outputs": [],
   "source": [
    "\n",
    "# Gini Left\n",
    "p1_left = 90 / 100\n",
    "p2_left = 10 / 100\n",
    "gini_left = 1 - (p1_left**2 + p2_left**2)\n",
    "\n",
    "# Gini Right\n",
    "p1_right = 100 / 200\n",
    "p2_right = 100 / 200\n",
    "gini_right = 1 - (p1_right**2 + p2_right**2)\n",
    "\n",
    "# Weighted Gini\n",
    "gini_after = (100 / 300) * gini_left + (200 / 300) * gini_right\n",
    "\n",
    "print(f\"Gini Left: {gini_left:.4f}\")\n",
    "print(f\"Gini Right: {gini_right:.4f}\")\n",
    "print(f\"Weighted Gini after split: {gini_after:.4f}\")\n",
    "\n",
    "# Comparison\n",
    "if gini_after < gini_before:\n",
    "    print(\"The split improves purity.\")\n",
    "else:\n",
    "    print(\"The split does not improve purity.\")\n"
   ]
  },
  {
   "cell_type": "markdown",
   "id": "8d160b03",
   "metadata": {},
   "source": [
    "## Question 2a:"
   ]
  },
  {
   "cell_type": "code",
   "execution_count": null,
   "id": "280a9a84",
   "metadata": {},
   "outputs": [],
   "source": [
    "\n",
    "import pandas as pd\n",
    "import numpy as np\n",
    "\n",
    "data = {\n",
    "    'X1': [1, 2, 3, 4, 5, 6, 7, 8],\n",
    "    'X2': [5, 6, 8, 10, 12, 15, 18, 20],\n",
    "    'Y':  [10, 12, 15, 18, 21, 25, 28, 30]\n",
    "}\n",
    "\n",
    "df = pd.DataFrame(data)\n",
    "\n",
    "def compute_sse(y_values):\n",
    "    mean_y = np.mean(y_values)\n",
    "    return np.sum((y_values - mean_y) ** 2)\n",
    "\n",
    "min_sse = float('inf')\n",
    "best_split = None\n",
    "\n",
    "for i in range(1, len(df)):\n",
    "    left_y = df.iloc[:i]['Y']\n",
    "    right_y = df.iloc[i:]['Y']\n",
    "    \n",
    "    sse = compute_sse(left_y) + compute_sse(right_y)\n",
    "    \n",
    "    if sse < min_sse:\n",
    "        min_sse = sse\n",
    "        best_split = df.iloc[i - 1]['X1']\n",
    "\n",
    "print(f\"Best split point for X1: {best_split}\")\n",
    "print(f\"Minimum SSE: {min_sse}\")\n"
   ]
  },
  {
   "cell_type": "markdown",
   "id": "8956f22a",
   "metadata": {},
   "source": [
    "## Question 2b:"
   ]
  },
  {
   "cell_type": "code",
   "execution_count": null,
   "id": "a1e01604",
   "metadata": {},
   "outputs": [],
   "source": [
    "\n",
    "left_group = df[df['X1'] <= best_split]\n",
    "right_group = df[df['X1'] > best_split]\n",
    "\n",
    "print(\"Left Node:\")\n",
    "print(left_group)\n",
    "\n",
    "print(\"\\nRight Node:\")\n",
    "print(right_group)\n"
   ]
  }
 ],
 "metadata": {
  "language_info": {
   "name": "python"
  }
 },
 "nbformat": 4,
 "nbformat_minor": 5
}
